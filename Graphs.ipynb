{
 "cells": [
  {
   "cell_type": "markdown",
   "metadata": {},
   "source": [
    "# Code Part for plotting the respective Graphs. \n",
    "The aim is to plot the **Height-per-Age** and **Weight-per-Age** profiles for different subgroups. \n",
    "For this, we use the statsmodels nonparametric lowess function and build confidence intervals via bootstrap, as the required function (STATA: twoway polyfit) is not available in python. "
   ]
  },
  {
   "cell_type": "markdown",
   "metadata": {},
   "source": [
    "Importing the required libraries    "
   ]
  },
  {
   "cell_type": "code",
   "execution_count": null,
   "metadata": {
    "vscode": {
     "languageId": "plaintext"
    }
   },
   "outputs": [],
   "source": [
    "import numpy as np\n",
    "import pandas as pd\n",
    "import seaborn as sns\n",
    "import matplotlib.pyplot as plt\n",
    "import statsmodels.api as sm\n",
    "from sklearn.utils import resample\n",
    "from scipy.interpolate import interp1d  # For smooth interpolation\n",
    "from pathlib import Path  # For file path management\n"
   ]
  },
  {
   "cell_type": "markdown",
   "metadata": {},
   "source": [
    "Load the data "
   ]
  },
  {
   "cell_type": "code",
   "execution_count": null,
   "metadata": {
    "vscode": {
     "languageId": "plaintext"
    }
   },
   "outputs": [],
   "source": [
    "data = pd.read_csv(data_path)"
   ]
  },
  {
   "cell_type": "markdown",
   "metadata": {},
   "source": [
    "Function for local polynomial regression: "
   ]
  },
  {
   "cell_type": "code",
   "execution_count": null,
   "metadata": {
    "vscode": {
     "languageId": "plaintext"
    }
   },
   "outputs": [],
   "source": [
    "def local_poly_regression(x, y, degree=3, frac=0.3, x_eval=None):\n",
    "    \"\"\"\n",
    "    Perform local polynomial regression (lowess).\n",
    "\n",
    "    Parameters:\n",
    "    -----------\n",
    "    x, y : array-like\n",
    "        Input data.\n",
    "    degree : int\n",
    "        Degree of polynomial (not used directly here since lowess is nonparametric).\n",
    "    frac : float\n",
    "        Fraction of points used for smoothing.\n",
    "    x_eval : array-like\n",
    "        Points to evaluate the fitted curve.\n",
    "\n",
    "    Returns:\n",
    "    --------\n",
    "    x_eval : array-like\n",
    "        Evaluated x-points.\n",
    "    fit_y : array-like\n",
    "        Smoothed y-values.\n",
    "    \"\"\"\n",
    "    if x_eval is None:\n",
    "        x_eval = np.linspace(min(x), max(x), 500)  # High-resolution x-values\n",
    "    fit = sm.nonparametric.lowess(y, x, frac=frac, return_sorted=True)\n",
    "    fit_interp = interp1d(fit[:, 0], fit[:, 1], fill_value=\"extrapolate\")\n",
    "    return x_eval, fit_interp(x_eval)"
   ]
  },
  {
   "cell_type": "markdown",
   "metadata": {},
   "source": [
    "Function to compute bootstrap confidence intervals:"
   ]
  },
  {
   "cell_type": "code",
   "execution_count": null,
   "metadata": {
    "vscode": {
     "languageId": "plaintext"
    }
   },
   "outputs": [],
   "source": [
    "def bootstrap_ci(x, y, degree=3, frac=0.3, n_bootstrap=1000, ci=95, x_eval=None):\n",
    "    \"\"\"\n",
    "    Compute bootstrap confidence intervals for local polynomial regression.\n",
    "\n",
    "    Parameters:\n",
    "    -----------\n",
    "    x, y : array-like\n",
    "        Input data.\n",
    "    degree : int\n",
    "        Degree of polynomial (not used directly here since lowess is nonparametric).\n",
    "    frac : float\n",
    "        Fraction of points used for smoothing.\n",
    "    n_bootstrap : int\n",
    "        Number of bootstrap iterations.\n",
    "    ci : int\n",
    "        Confidence level (e.g., 95 for 95% CI).\n",
    "    x_eval : array-like\n",
    "        Points to evaluate the fitted curve.\n",
    "\n",
    "    Returns:\n",
    "    --------\n",
    "    lower_bound : array-like\n",
    "        Lower bound of confidence interval.\n",
    "    upper_bound : array-like\n",
    "        Upper bound of confidence interval.\n",
    "    \"\"\"\n",
    "    if x_eval is None:\n",
    "        x_eval = np.linspace(min(x), max(x), 500)  # High-resolution x-values\n",
    "\n",
    "    boot_coefs = np.zeros((n_bootstrap, len(x_eval)))\n",
    "    for i in range(n_bootstrap):\n",
    "        x_resampled, y_resampled = resample(x, y)\n",
    "        _, boot_fit = local_poly_regression(x_resampled, y_resampled, degree=degree, frac=frac, x_eval=x_eval)\n",
    "        boot_coefs[i, :] = boot_fit\n",
    "\n",
    "    # Calculate lower and upper percentiles for the confidence intervals\n",
    "    lower_bound = np.percentile(boot_coefs, (100 - ci) / 2, axis=0)\n",
    "    upper_bound = np.percentile(boot_coefs, 100 - (100 - ci) / 2, axis=0)\n",
    "    return lower_bound, upper_bound"
   ]
  },
  {
   "cell_type": "markdown",
   "metadata": {},
   "source": [
    "Function to plot WHO Z-scores with confidence intervals"
   ]
  },
  {
   "cell_type": "code",
   "execution_count": null,
   "metadata": {
    "vscode": {
     "languageId": "plaintext"
    }
   },
   "outputs": [],
   "source": [
    "def plot_zscores(data, subgroup_column, cases, x_col, degree=3, frac=0.3, ci=95, n_bootstrap=1000):\n",
    "    \"\"\"\n",
    "    Plot WHO Z-scores with confidence intervals for specified cases and subgroups.\n",
    "\n",
    "    Parameters:\n",
    "    -----------\n",
    "    data : pd.DataFrame\n",
    "        Input data.\n",
    "    subgroup_column : str\n",
    "        Column name for the subgroup (e.g., 'urban', 'ar', 'male').\n",
    "    cases : dict\n",
    "        Dictionary of case names to column names (e.g., {'HAZ': 'hta', 'WAZ': 'wta'}).\n",
    "    x_col : str\n",
    "        Column name for the x-axis variable (e.g., 'childage').\n",
    "    degree : int\n",
    "        Degree of the polynomial for smoothing.\n",
    "    frac : float\n",
    "        Fraction of points used for lowess regression.\n",
    "    ci : int\n",
    "        Confidence interval percentage.\n",
    "    n_bootstrap : int\n",
    "        Number of bootstrap iterations.\n",
    "    \"\"\"\n",
    "    plt.figure(figsize=(12, 8))\n",
    "    for subgroup, subgroup_data in data.groupby(subgroup_column):\n",
    "        x_eval = np.linspace(subgroup_data[x_col].min(), subgroup_data[x_col].max(), 500)\n",
    "        for case_name, case_column in cases.items():\n",
    "            x = subgroup_data[x_col]\n",
    "            y = subgroup_data[case_column]\n",
    "            \n",
    "            # Perform local polynomial regression\n",
    "            fit_x, fit_y = local_poly_regression(x, y, degree=degree, frac=frac, x_eval=x_eval)\n",
    "            \n",
    "            # Compute confidence intervals\n",
    "            lower_ci, upper_ci = bootstrap_ci(x, y, degree=degree, frac=frac, x_eval=x_eval, n_bootstrap=n_bootstrap, ci=ci)\n",
    "            \n",
    "            # Plot\n",
    "            plt.plot(fit_x, fit_y, label=f'{case_name} ({subgroup})')\n",
    "            plt.fill_between(fit_x, lower_ci, upper_ci, alpha=0.3, label=f'95% CI {case_name} ({subgroup})')\n",
    "\n",
    "    plt.title(f'WHO Z-score by Age of Child ({subgroup_column})')\n",
    "    plt.xlabel('Age of the child in months')\n",
    "    plt.ylabel('WHO Z-score')\n",
    "    plt.legend()\n",
    "    plt.grid(True, linestyle='--', color='lightgray')\n",
    "    plt.savefig(f'ageprofiles_{subgroup_column}_cases.pdf')\n",
    "    plt.show()"
   ]
  },
  {
   "cell_type": "markdown",
   "metadata": {},
   "source": [
    "Define cases and columns for analysis"
   ]
  },
  {
   "cell_type": "code",
   "execution_count": null,
   "metadata": {
    "vscode": {
     "languageId": "plaintext"
    }
   },
   "outputs": [],
   "source": [
    "cases = {'HAZ': 'hta', 'WAZ': 'wta'}"
   ]
  },
  {
   "cell_type": "markdown",
   "metadata": {},
   "source": [
    "Plot for different subgroups"
   ]
  },
  {
   "cell_type": "code",
   "execution_count": null,
   "metadata": {
    "vscode": {
     "languageId": "plaintext"
    }
   },
   "outputs": [],
   "source": [
    "\n",
    "plot_zscores(data, subgroup_column='ar', cases=cases, x_col='childage')  # Affected region\n",
    "plot_zscores(data, subgroup_column='male', cases=cases, x_col='childage')  # Gender\n",
    "plot_zscores(data, subgroup_column='urban', cases=cases, x_col='childage')  # Urban vs rural\n"
   ]
  },
  {
   "cell_type": "code",
   "execution_count": null,
   "metadata": {
    "vscode": {
     "languageId": "plaintext"
    }
   },
   "outputs": [],
   "source": []
  }
 ],
 "metadata": {
  "language_info": {
   "name": "python"
  }
 },
 "nbformat": 4,
 "nbformat_minor": 2
}
